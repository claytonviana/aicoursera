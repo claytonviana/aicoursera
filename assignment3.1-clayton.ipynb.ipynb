{
    "nbformat_minor": 1, 
    "cells": [
        {
            "source": "# Assignment 3\n\nWelcome to Assignment 3. This will be even more fun. Now we will calculate statistical measures on the test data you have created.\n\nYOU ARE NOT ALLOWED TO USE ANY OTHER 3RD PARTY LIBRARIES LIKE PANDAS. PLEASE ONLY MODIFY CONTENT INSIDE THE FUNCTION SKELETONS\nPlease read why: https://www.coursera.org/learn/exploring-visualizing-iot-data/discussions/weeks/3/threads/skjCbNgeEeapeQ5W6suLkA\n. Just make sure you hit the play button on each cell from top to down. There are seven functions you have to implement. Please also make sure than on each change on a function you hit the play button again on the corresponding cell to make it available to the rest of this notebook.\nPlease also make sure to only implement the function bodies and DON'T add any additional code outside functions since this might confuse the autograder.\n\nSo the function below is used to make it easy for you to create a data frame from a cloudant data frame using the so called \"DataSource\" which is some sort of a plugin which allows ApacheSpark to use different data sources.\n", 
            "cell_type": "markdown", 
            "metadata": {}
        }, 
        {
            "source": "#Please don't modify this function\ndef readDataFrameFromCloudant(database):\n    cloudantdata=spark.read.load(database, \"org.apache.bahir.cloudant\")\n\n    cloudantdata.createOrReplaceTempView(\"washing\")\n    spark.sql(\"SELECT * from washing\").show()\n    return cloudantdata", 
            "cell_type": "code", 
            "metadata": {}, 
            "outputs": [], 
            "execution_count": 1
        }, 
        {
            "source": "All functions can be implemented using DataFrames, ApacheSparkSQL or RDDs. We are only interested in the result. You are given the reference to the data frame in the \"df\" parameter and in case you want to use SQL just use the \"spark\" parameter which is a reference to the global SparkSession object. Finally if you want to use RDDs just use \"df.rdd\" for obtaining a reference to the underlying RDD object. \n\nLet's start with the first function. Please calculate the minimal temperature for the test data set you have created. We've provided a little skeleton for you in case you want to use SQL. You can use this skeleton for all subsequent functions. Everything can be implemented using SQL only if you like.", 
            "cell_type": "markdown", 
            "metadata": {}
        }, 
        {
            "source": "def minTemperature(df,spark):\n    return spark.sql(\"SELECT MIN(temperature) as mintemp from washing\").first().mintemp", 
            "cell_type": "code", 
            "metadata": {}, 
            "outputs": [], 
            "execution_count": 2
        }, 
        {
            "source": "Please now do the same for the mean of the temperature", 
            "cell_type": "markdown", 
            "metadata": {}
        }, 
        {
            "source": "def meanTemperature(df,spark):\n    return spark.sql(\"SELECT AVG(temperature) as avgtemp from washing\").first().avgtemp", 
            "cell_type": "code", 
            "metadata": {}, 
            "outputs": [], 
            "execution_count": 3
        }, 
        {
            "source": "Please now do the same for the maximum of the temperature", 
            "cell_type": "markdown", 
            "metadata": {}
        }, 
        {
            "source": "def maxTemperature(df,spark):\n    return spark.sql(\"SELECT MAX(temperature) as maxtemp from washing\").first().maxtemp", 
            "cell_type": "code", 
            "metadata": {}, 
            "outputs": [], 
            "execution_count": 4
        }, 
        {
            "source": "Please now do the same for the standard deviation of the temperature", 
            "cell_type": "markdown", 
            "metadata": {}
        }, 
        {
            "source": "def sdTemperature(df,spark):\n    return spark.sql(\"SELECT STDDEV(temperature) as stdtemp from washing\").first().stdtemp", 
            "cell_type": "code", 
            "metadata": {}, 
            "outputs": [], 
            "execution_count": 5
        }, 
        {
            "source": "Please now do the same for the skew of the temperature. Since the SQL statement for this is a bit more complicated we've provided a skeleton for you. You have to insert custom code at four position in order to make the function work. Alternatively you can also remove everything and implement if on your own. Note that we are making use of two previously defined functions, so please make sure they are correct. Also note that we are making use of python's string formatting capabilitis where the results of the two function calls to \"meanTemperature\" and \"sdTemperature\" are inserted at the \"%s\" symbols in the SQL string.", 
            "cell_type": "markdown", 
            "metadata": {}
        }, 
        {
            "source": "def skewTemperature(df,spark):    \n    return spark.sql(\"\"\"\nSELECT \n    (\n        1/count(temperature)\n    ) *\n    SUM (\n        POWER(temperature-%s,3)/POWER(%s,3)\n    )\n\nas skewtemp from washing\n                    \"\"\" %(meanTemperature(df,spark),sdTemperature(df,spark))).first().skewtemp", 
            "cell_type": "code", 
            "metadata": {}, 
            "outputs": [], 
            "execution_count": 6
        }, 
        {
            "source": "Kurtosis is the 4th statistical moment, so if you are smart you can make use of the code for skew which is the 3rd statistical moment. Actually only two things are different.", 
            "cell_type": "markdown", 
            "metadata": {}
        }, 
        {
            "source": "def kurtosisTemperature(df,spark):    \n    return spark.sql(\"\"\"\nSELECT \n    (\n        1/count(temperature)\n    ) *\n    SUM (\n        POWER(temperature-%s,4)/POWER(%s,4)\n    )\n\nas kurtosistemp from washing\n                    \"\"\" %(meanTemperature(df,spark),sdTemperature(df,spark))).first().kurtosistemp", 
            "cell_type": "code", 
            "metadata": {}, 
            "outputs": [], 
            "execution_count": 7
        }, 
        {
            "source": "Just a hint. This can be solved easily using SQL as well, but as shown in the lecture also using RDDs.", 
            "cell_type": "markdown", 
            "metadata": {}
        }, 
        {
            "source": "def correlationTemperatureHardness(df,spark):\n    meantemp = spark.sql(\"SELECT AVG(temperature) as meantemp from washing\").first().meantemp\n    meanhardness = spark.sql(\"SELECT AVG(Hardness) as meanhardness from washing\").first().meanhardness\n    stdtemp = spark.sql(\"SELECT STDDEV(temperature) as stdtemp from washing\").first().stdtemp\n    stdhardness = spark.sql(\"SELECT STDDEV(Hardness) as stdhardness from washing\").first().stdhardness\n    \n    covTemperatureHardness = spark.sql(\"\"\"\nSELECT \n    (\n        1/count(temperature)\n    ) *\n    SUM (\n        (temperature-%s)*(Hardness-%s)\n    )\n\nas covTemperatureHardness from washing\n                    \"\"\" %(meantemp,meanhardness)).first().covTemperatureHardness\n    \n    corrTemperatureHardness = covTemperatureHardness / (stdtemp*stdhardness)\n    \n    return corrTemperatureHardness", 
            "cell_type": "code", 
            "metadata": {}, 
            "outputs": [], 
            "execution_count": 8
        }, 
        {
            "source": "### PLEASE DON'T REMOVE THIS BLOCK - THE FOLLOWING CODE IS NOT GRADED\n#axx\n### PLEASE DON'T REMOVE THIS BLOCK - THE FOLLOWING CODE IS NOT GRADED", 
            "cell_type": "markdown", 
            "metadata": {}
        }, 
        {
            "source": "Now it is time to connect to the cloudant database. Please have a look at the Video \"Overview of end-to-end scenario\" of Week 2 starting from 6:40 in order to learn how to obtain the credentials for the database. Please paste this credentials as strings into the below code\n\n### TODO Please provide your Cloudant credentials here", 
            "cell_type": "markdown", 
            "metadata": {}
        }, 
        {
            "source": "hostname = \"5b6b1985-6dc3-4917-aeb1-6fcae5384198-bluemix.cloudant.com\"\nuser = \"5b6b1985-6dc3-4917-aeb1-6fcae5384198-bluemix\"\npw = \"05ef0a659b1dc920991fb4884929c9e3cb6194a1ed8bccb76f2ef0565d2a2a8e\"\ndatabase = \"washing\" #as long as you didn't change this in the NodeRED flow the database name stays the same", 
            "cell_type": "code", 
            "metadata": {}, 
            "outputs": [], 
            "execution_count": 9
        }, 
        {
            "source": "spark = SparkSession\\\n    .builder\\\n    .appName(\"Cloudant Spark SQL Example in Python using temp tables\")\\\n    .config(\"cloudant.host\",hostname)\\\n    .config(\"cloudant.username\", user)\\\n    .config(\"cloudant.password\",pw)\\\n    .getOrCreate()\ncloudantdata=readDataFrameFromCloudant(database)", 
            "cell_type": "code", 
            "metadata": {}, 
            "outputs": [
                {
                    "output_type": "stream", 
                    "name": "stdout", 
                    "text": "+--------------------+--------------------+-----+--------+----------+---------+--------+-----+-----------+-------------+-------+\n|                 _id|                _rev|count|flowrate|fluidlevel|frequency|hardness|speed|temperature|           ts|voltage|\n+--------------------+--------------------+-----+--------+----------+---------+--------+-----+-----------+-------------+-------+\n|0a79ae01187f3f227...|1-ec38d95c7b883ff...|    7|      11|acceptable|     null|      75| null|         92|1540698014385|   null|\n|0a79ae01187f3f227...|1-902a7cf2a308db1...|   11|      11|acceptable|     null|      76| null|         98|1540698018389|   null|\n|0a79ae01187f3f227...|1-ffb500185c8e7b1...|   18|      11|acceptable|     null|      72| null|         89|1540698025400|   null|\n|0a79ae01187f3f227...|1-3da5859a4621152...|    8|    null|      null|       69|    null| null|       null|1540698031386|    233|\n|0a79ae01187f3f227...|1-8e4955a5b79b6f3...|   31|      11|acceptable|     null|      78| null|         88|1540698038427|   null|\n|0a79ae01187f3f227...|1-c4a32f92020857e...|   55|      11|acceptable|     null|      74| null|        100|1540698062459|   null|\n|0a79ae01187f3f227...|1-1410d6ac7f9352f...|   67|      11|acceptable|     null|      80| null|         82|1540698074476|   null|\n|0a79ae01187f3f227...|1-fbeb145d2826367...|   68|      11|acceptable|     null|      77| null|         94|1540698075478|   null|\n|0a79ae01187f3f227...|1-1fe23ac815f2cd9...|   70|      11|acceptable|     null|      79| null|         81|1540698077480|   null|\n|0a79ae01187f3f227...|1-ebc47d0e6489142...|   76|      11|acceptable|     null|      76| null|        100|1540698083490|   null|\n|0a79ae01187f3f227...|1-001fa6cb1bb2540...|   29|    null|      null|       61|    null| null|       null|1540698094429|    239|\n|0a79ae01187f3f227...|1-3810f89e37088bc...|   31|    null|      null|       66|    null| null|       null|1540698100431|    236|\n|0a79ae01187f3f227...|1-def40d188784b6b...|   97|      11|acceptable|     null|      72| null|        100|1540698104527|   null|\n|0a79ae01187f3f227...|1-b4e5ce275962654...|   36|    null|      null|       75|    null| null|       null|1540698115439|    232|\n|0a79ae01187f3f227...|1-60ea1868d9ff27c...|  110|      11|acceptable|     null|      78| null|         94|1540698117547|   null|\n|0a79ae01187f3f227...|1-d98b32017468702...|  111|      11|acceptable|     null|      75| null|         96|1540698118548|   null|\n|0a79ae01187f3f227...|1-0af9350845e78fc...|  121|      11|acceptable|     null|      73| null|         83|1540698128563|   null|\n|0a79ae01187f3f227...|1-5741db7de73adb0...|  127|      11|acceptable|     null|     130| null|         82|1540698134573|   null|\n|0a79ae01187f3f227...|1-1b8be0fc23bc074...|  128|      11|acceptable|     null|     135| null|         88|1540698135574|   null|\n|0a79ae01187f3f227...|1-85b0f24c4a40908...|  139|      11|acceptable|     null|     190| null|         81|1540698146601|   null|\n+--------------------+--------------------+-----+--------+----------+---------+--------+-----+-----------+-------------+-------+\nonly showing top 20 rows\n\n"
                }
            ], 
            "execution_count": 10
        }, 
        {
            "source": "minTemperature(cloudantdata,spark)", 
            "cell_type": "code", 
            "metadata": {}, 
            "outputs": [
                {
                    "output_type": "execute_result", 
                    "data": {
                        "text/plain": "80"
                    }, 
                    "execution_count": 11, 
                    "metadata": {}
                }
            ], 
            "execution_count": 11
        }, 
        {
            "source": "meanTemperature(cloudantdata,spark)", 
            "cell_type": "code", 
            "metadata": {}, 
            "outputs": [
                {
                    "output_type": "execute_result", 
                    "data": {
                        "text/plain": "89.81918819188192"
                    }, 
                    "execution_count": 12, 
                    "metadata": {}
                }
            ], 
            "execution_count": 12
        }, 
        {
            "source": "maxTemperature(cloudantdata,spark)", 
            "cell_type": "code", 
            "metadata": {}, 
            "outputs": [
                {
                    "output_type": "execute_result", 
                    "data": {
                        "text/plain": "100"
                    }, 
                    "execution_count": 13, 
                    "metadata": {}
                }
            ], 
            "execution_count": 13
        }, 
        {
            "source": "sdTemperature(cloudantdata,spark)", 
            "cell_type": "code", 
            "metadata": {}, 
            "outputs": [
                {
                    "output_type": "execute_result", 
                    "data": {
                        "text/plain": "6.252744648138369"
                    }, 
                    "execution_count": 14, 
                    "metadata": {}
                }
            ], 
            "execution_count": 14
        }, 
        {
            "source": "skewTemperature(cloudantdata,spark)", 
            "cell_type": "code", 
            "metadata": {}, 
            "outputs": [
                {
                    "output_type": "execute_result", 
                    "data": {
                        "text/plain": "0.11071249144560644"
                    }, 
                    "execution_count": 15, 
                    "metadata": {}
                }
            ], 
            "execution_count": 15
        }, 
        {
            "source": "kurtosisTemperature(cloudantdata,spark)", 
            "cell_type": "code", 
            "metadata": {}, 
            "outputs": [
                {
                    "output_type": "execute_result", 
                    "data": {
                        "text/plain": "1.7393944148031186"
                    }, 
                    "execution_count": 16, 
                    "metadata": {}
                }
            ], 
            "execution_count": 16
        }, 
        {
            "source": "correlationTemperatureHardness(cloudantdata,spark)", 
            "cell_type": "code", 
            "metadata": {}, 
            "outputs": [
                {
                    "output_type": "execute_result", 
                    "data": {
                        "text/plain": "-0.07905476341086327"
                    }, 
                    "execution_count": 17, 
                    "metadata": {}
                }
            ], 
            "execution_count": 17
        }, 
        {
            "source": "Congratulations, you are done, please download this notebook as python file using the export function and submit is to the gader using the filename \"assignment3.1.py\"", 
            "cell_type": "markdown", 
            "metadata": {}
        }
    ], 
    "metadata": {
        "kernelspec": {
            "display_name": "Python 2 with Spark 2.1", 
            "name": "python2-spark21", 
            "language": "python"
        }, 
        "language_info": {
            "mimetype": "text/x-python", 
            "nbconvert_exporter": "python", 
            "version": "2.7.14", 
            "name": "python", 
            "pygments_lexer": "ipython2", 
            "file_extension": ".py", 
            "codemirror_mode": {
                "version": 2, 
                "name": "ipython"
            }
        }
    }, 
    "nbformat": 4
}