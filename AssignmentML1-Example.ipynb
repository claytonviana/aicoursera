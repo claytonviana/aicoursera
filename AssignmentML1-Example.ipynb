{
    "nbformat_minor": 1, 
    "cells": [
        {
            "source": "This is the first assgiment for the Coursera course \"Advanced Machine Learning and Signal Processing\"\n\nThe first step is to insert the credentials to the Apache CouchDB / Cloudant database where your sensor data ist stored to. \n\n1. In the project's overview tab of this project just select \"Add to project\"->Connection\n2. From the section \"Your service instances in IBM Cloud\" select your cloudant database and click on \"create\"\n3. Now click in the empty cell below labeled with \"your cloudant credentials go here\"\n4. Click on the \"10-01\" symbol top right and selecrt the \"Connections\" tab\n5. Find your data base connection and click on \"Insert to code\"\n\nThe following video illustrates this process: https://www.youtube.com/watch?v=dCawUGv7qgs\n\nDone, just execute all cells one after the other and you are done - just note that in the last one you have to update your email address (the one you've used for coursera) and obtain a submittion token, you get this from the programming assingment directly on coursera.", 
            "cell_type": "markdown", 
            "metadata": {}
        }, 
        {
            "execution_count": 19, 
            "cell_type": "code", 
            "source": "#your cloudant credentials go here\n", 
            "outputs": [], 
            "metadata": {}
        }, 
        {
            "execution_count": 20, 
            "cell_type": "code", 
            "source": "spark = SparkSession\\\n    .builder\\\n    .appName(\"Cloudant Spark SQL Example in Python using temp tables\")\\\n    .config(\"cloudant.host\",credentials_1['custom_url'].split('@')[1])\\\n    .config(\"cloudant.username\", credentials_1['username'])\\\n    .config(\"cloudant.password\",credentials_1['password'])\\\n    .config(\"jsonstore.rdd.partitions\", 1)\\\n    .getOrCreate()", 
            "outputs": [], 
            "metadata": {}
        }, 
        {
            "execution_count": 21, 
            "cell_type": "code", 
            "source": "df=spark.read.load('shake', \"com.cloudant.spark\")\n\ndf.createOrReplaceTempView(\"df\")\nspark.sql(\"SELECT * from df\").show()\n", 
            "outputs": [
                {
                    "output_type": "stream", 
                    "name": "stdout", 
                    "text": "+-----+--------+---+---+---+--------------------+--------------------+\n|CLASS|SENSORID|  X|  Y|  Z|                 _id|                _rev|\n+-----+--------+---+---+---+--------------------+--------------------+\n|    1|aaaaaaaa|  0|  0|  0|0eeeb898fd10f9b42...|1-714c9494227f549...|\n|    1|aaaaaaaa|  0|  0|  0|0eeeb898fd10f9b42...|1-714c9494227f549...|\n|    1|aaaaaaaa|  0|  0|  0|0eeeb898fd10f9b42...|1-714c9494227f549...|\n|    1|aaaaaaaa|  0|  0|  0|0eeeb898fd10f9b42...|1-714c9494227f549...|\n|    1|aaaaaaaa|  0|  0|  0|0eeeb898fd10f9b42...|1-714c9494227f549...|\n|    0|aaaaaaaa|  0|  0|  0|2da2ace9279cabe9c...|1-fdae515ae136777...|\n|    1|aaaaaaaa|  0|  0|  0|2da2ace9279cabe9c...|1-714c9494227f549...|\n|    1|aaaaaaaa|  0|  0|  0|2da2ace9279cabe9c...|1-714c9494227f549...|\n|    1|aaaaaaaa|  0|  0|  0|2da2ace9279cabe9c...|1-714c9494227f549...|\n|    0|aaaaaaaa|  0|  0|  0|393634080f1035163...|1-fdae515ae136777...|\n|    1|aaaaaaaa|  0|  0|  0|393634080f1035163...|1-714c9494227f549...|\n|    1|aaaaaaaa|  0|  0|  0|393634080f1035163...|1-714c9494227f549...|\n|    1|aaaaaaaa|  0|  0|  0|393634080f1035163...|1-714c9494227f549...|\n|    1|aaaaaaaa|  0|  0|  0|393634080f1035163...|1-714c9494227f549...|\n|    1|aaaaaaaa|  0|  0|  0|393634080f1035163...|1-714c9494227f549...|\n|    1|aaaaaaaa|  0|  0|  0|393634080f1035163...|1-714c9494227f549...|\n|    1|aaaaaaaa|  0|  0|  0|393634080f1035163...|1-714c9494227f549...|\n|    0|aaaaaaaa|  0|  0|  0|4beaf935ec5eb2814...|1-fdae515ae136777...|\n|    0|aaaaaaaa|  0|  0|  0|4beaf935ec5eb2814...|1-fdae515ae136777...|\n|    1|aaaaaaaa|  0|  0|  0|4beaf935ec5eb2814...|1-714c9494227f549...|\n+-----+--------+---+---+---+--------------------+--------------------+\nonly showing top 20 rows\n\n"
                }
            ], 
            "metadata": {}
        }, 
        {
            "execution_count": 26, 
            "cell_type": "code", 
            "source": "!rm -Rf a2_m1.parquet", 
            "outputs": [], 
            "metadata": {}
        }, 
        {
            "execution_count": 27, 
            "cell_type": "code", 
            "source": "df = df.repartition(1)\ndf.write.json('a2_m1.json')", 
            "outputs": [], 
            "metadata": {}
        }, 
        {
            "execution_count": 28, 
            "cell_type": "code", 
            "source": "!rm -f rklib.py\n!wget https://raw.githubusercontent.com/romeokienzler/developerWorks/master/coursera/ai/rklib.py", 
            "outputs": [
                {
                    "output_type": "stream", 
                    "name": "stdout", 
                    "text": "--2018-05-27 12:24:50--  https://raw.githubusercontent.com/romeokienzler/developerWorks/master/coursera/ai/rklib.py\nResolving raw.githubusercontent.com (raw.githubusercontent.com)... 151.101.48.133\nConnecting to raw.githubusercontent.com (raw.githubusercontent.com)|151.101.48.133|:443... connected.\nHTTP request sent, awaiting response... 200 OK\nLength: 2029 (2.0K) [text/plain]\nSaving to: \u2018rklib.py\u2019\n\n100%[======================================>] 2,029       --.-K/s   in 0s      \n\n2018-05-27 12:24:50 (20.2 MB/s) - \u2018rklib.py\u2019 saved [2029/2029]\n\n"
                }
            ], 
            "metadata": {}
        }, 
        {
            "execution_count": 29, 
            "cell_type": "code", 
            "source": "!zip -r a2_m1.json.zip a2_m1.json", 
            "outputs": [
                {
                    "output_type": "stream", 
                    "name": "stdout", 
                    "text": "updating: a2_m1.parquet/ (stored 0%)\r\nupdating: a2_m1.parquet/_SUCCESS (stored 0%)\r\nupdating: a2_m1.parquet/._SUCCESS.crc (stored 0%)\r\n  adding: a2_m1.parquet/.part-00000-8dedcb0a-d209-4757-adbd-0b6ff434e06d.snappy.parquet.crc (stored 0%)\r\n  adding: a2_m1.parquet/part-00000-8dedcb0a-d209-4757-adbd-0b6ff434e06d.snappy.parquet (deflated 53%)\r\n"
                }
            ], 
            "metadata": {}
        }, 
        {
            "execution_count": 30, 
            "cell_type": "code", 
            "source": "!base64 a2_m1.json.zip > a2_m1.json.zip.base64", 
            "outputs": [], 
            "metadata": {}
        }, 
        {
            "execution_count": 44, 
            "cell_type": "code", 
            "source": "from rklib import submit\nkey = \"1injH2F0EeiLlRJ3eJKoXA\"\npart = \"wNLDt\"\nemail = \"romeo.kienzler@ch.ibm.com\"\nsecret = \"LmH3xl5RfXEcpMMb\"\n\nwith open('a2_m1.json.zip.base64', 'r') as myfile:\n    data=myfile.read()\nsubmit(email, secret, key, part, [part], data)", 
            "outputs": [
                {
                    "output_type": "stream", 
                    "name": "stdout", 
                    "text": "Submission successful, please check on the coursera grader page for the status\n"
                }
            ], 
            "metadata": {}
        }, 
        {
            "execution_count": null, 
            "cell_type": "code", 
            "source": "", 
            "outputs": [], 
            "metadata": {}
        }
    ], 
    "nbformat": 4, 
    "metadata": {
        "kernelspec": {
            "display_name": "Python 3.5 with Spark 2.1", 
            "name": "python3-spark21", 
            "language": "python"
        }, 
        "language_info": {
            "mimetype": "text/x-python", 
            "nbconvert_exporter": "python", 
            "version": "3.5.4", 
            "name": "python", 
            "file_extension": ".py", 
            "pygments_lexer": "ipython3", 
            "codemirror_mode": {
                "version": 3, 
                "name": "ipython"
            }
        }
    }
}