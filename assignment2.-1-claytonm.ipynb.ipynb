{
    "nbformat_minor": 1, 
    "cells": [
        {
            "source": "### Assignment 2\nWelcome to Assignment 2. This will be fun. It is the first time you actually access external data from ApacheSpark. \n\nJust make sure you hit the play button on each cell from top to down. There are three functions you have to implement. Please also make sure than on each change on a function you hit the play button again on the corresponding cell to make it available to the rest of this notebook.\n\n##### Please also make sure to only implement the function bodies and DON'T add any additional code outside functions since this might confuse the autograder.", 
            "cell_type": "markdown", 
            "metadata": {}
        }, 
        {
            "source": "So the function below is used to make it easy for you to create a data frame from a cloudant data frame using the so called \"DataSource\" which is some sort of a plugin which allows ApacheSpark to use different data sources.", 
            "cell_type": "markdown", 
            "metadata": {}
        }, 
        {
            "source": "#Please don't modify this function\ndef readDataFrameFromCloudant(database):\n    cloudantdata=spark.read.load(database, \"org.apache.bahir.cloudant\")\n\n    cloudantdata.createOrReplaceTempView(\"washing\")\n    spark.sql(\"SELECT * from washing\").show()\n    return cloudantdata", 
            "cell_type": "code", 
            "metadata": {}, 
            "outputs": [], 
            "execution_count": 1
        }, 
        {
            "source": "This is the first function you have to implement. You are passed a dataframe object. We've also registered the dataframe in the ApacheSparkSQL catalog - so you can also issue queries against the \"washing\" table using \"spark.sql()\". Hint: To get an idea about the contents of the catalog you can use: spark.catalog.listTables().\nSo now it's time to implement your first function. You are free to use the dataframe API, SQL or RDD API. In case you want to use the RDD API just obtain the encapsulated RDD using \"df.rdd\". You can test the function by running one of the three last cells of this notebook, but please make sure you run the cells from top to down since some are dependant of each other...", 
            "cell_type": "markdown", 
            "metadata": {}
        }, 
        {
            "source": "def count(df,spark):\n    result = spark.sql(\"SELECT COUNT(*) AS Count FROM washing\").collect()\n    count = result[0].Count\n    return count", 
            "cell_type": "code", 
            "metadata": {}, 
            "outputs": [], 
            "execution_count": 7
        }, 
        {
            "source": "No it's time to implement the second function. Please return an integer containing the number of fields. The most easy way to get this is using the dataframe API. Hint: You might find the dataframe API documentation useful: http://spark.apache.org/docs/latest/api/python/pyspark.sql.html#pyspark.sql.DataFrame", 
            "cell_type": "markdown", 
            "metadata": {}
        }, 
        {
            "source": "def getNumberOfFields(df,spark):\n    count = len(df.columns)\n    return count", 
            "cell_type": "code", 
            "metadata": {}, 
            "outputs": [], 
            "execution_count": 21
        }, 
        {
            "source": "Finally, please implement a function which returns a (python) list of string values of the field names in this data frame. Hint: Just copy&past doesn't work because the auto-grader will create a random data frame for testing, so please use the data frame API as well. Again, this is the link to the documentation: http://spark.apache.org/docs/latest/api/python/pyspark.sql.html#pyspark.sql.DataFrame", 
            "cell_type": "markdown", 
            "metadata": {}
        }, 
        {
            "source": "def getFieldNames(df,spark):\n    columns = df.columns\n    return columns", 
            "cell_type": "code", 
            "metadata": {}, 
            "outputs": [], 
            "execution_count": 22
        }, 
        {
            "source": "### PLEASE DON'T REMOVE THIS BLOCK - THE FOLLOWING CODE IS NOT GRADED\n#axx\n### PLEASE DON'T REMOVE THIS BLOCK - THE FOLLOWING CODE IS NOT GRADED\nSo after this block you can basically do what you like since the auto-grader is not considering this part of the notebook", 
            "cell_type": "markdown", 
            "metadata": {}
        }, 
        {
            "source": "Now it is time to connect to the cloudant database. Please have a look at the Video \"Overview of end-to-end scenario\" of Week 2 starting from 6:40 in order to learn how to obtain the credentials for the database. Please paste this credentials as strings into the below code\n\n### TODO Please provide your Cloudant credentials here", 
            "cell_type": "markdown", 
            "metadata": {}
        }, 
        {
            "source": "hostname = \"5b6b1985-6dc3-4917-aeb1-6fcae5384198-bluemix.cloudant.com\"\nuser = \"5b6b1985-6dc3-4917-aeb1-6fcae5384198-bluemix\"\npw = \"05ef0a659b1dc920991fb4884929c9e3cb6194a1ed8bccb76f2ef0565d2a2a8e\"\ndatabase = \"washing\" #as long as you didn't change this in the NodeRED flow the database name stays the same", 
            "cell_type": "code", 
            "metadata": {}, 
            "outputs": [], 
            "execution_count": 3
        }, 
        {
            "source": "spark = SparkSession\\\n    .builder\\\n    .appName(\"Cloudant Spark SQL Example in Python using temp tables\")\\\n    .config(\"cloudant.host\",hostname)\\\n    .config(\"cloudant.username\", user)\\\n    .config(\"cloudant.password\",pw)\\\n    .getOrCreate()\ncloudantdata=readDataFrameFromCloudant(database)", 
            "cell_type": "code", 
            "metadata": {}, 
            "outputs": [
                {
                    "output_type": "stream", 
                    "name": "stdout", 
                    "text": "+--------------------+--------------------+-----+--------+----------+---------+--------+-----+-----------+-------------+-------+\n|                 _id|                _rev|count|flowrate|fluidlevel|frequency|hardness|speed|temperature|           ts|voltage|\n+--------------------+--------------------+-----+--------+----------+---------+--------+-----+-----------+-------------+-------+\n|0a79ae01187f3f227...|1-ec38d95c7b883ff...|    7|      11|acceptable|     null|      75| null|         92|1540698014385|   null|\n|0a79ae01187f3f227...|1-902a7cf2a308db1...|   11|      11|acceptable|     null|      76| null|         98|1540698018389|   null|\n|0a79ae01187f3f227...|1-ffb500185c8e7b1...|   18|      11|acceptable|     null|      72| null|         89|1540698025400|   null|\n|0a79ae01187f3f227...|1-3da5859a4621152...|    8|    null|      null|       69|    null| null|       null|1540698031386|    233|\n|0a79ae01187f3f227...|1-8e4955a5b79b6f3...|   31|      11|acceptable|     null|      78| null|         88|1540698038427|   null|\n|0a79ae01187f3f227...|1-c4a32f92020857e...|   55|      11|acceptable|     null|      74| null|        100|1540698062459|   null|\n|0a79ae01187f3f227...|1-1410d6ac7f9352f...|   67|      11|acceptable|     null|      80| null|         82|1540698074476|   null|\n|0a79ae01187f3f227...|1-fbeb145d2826367...|   68|      11|acceptable|     null|      77| null|         94|1540698075478|   null|\n|0a79ae01187f3f227...|1-1fe23ac815f2cd9...|   70|      11|acceptable|     null|      79| null|         81|1540698077480|   null|\n|0a79ae01187f3f227...|1-ebc47d0e6489142...|   76|      11|acceptable|     null|      76| null|        100|1540698083490|   null|\n|0a79ae01187f3f227...|1-001fa6cb1bb2540...|   29|    null|      null|       61|    null| null|       null|1540698094429|    239|\n|0a79ae01187f3f227...|1-3810f89e37088bc...|   31|    null|      null|       66|    null| null|       null|1540698100431|    236|\n|0a79ae01187f3f227...|1-def40d188784b6b...|   97|      11|acceptable|     null|      72| null|        100|1540698104527|   null|\n|0a79ae01187f3f227...|1-b4e5ce275962654...|   36|    null|      null|       75|    null| null|       null|1540698115439|    232|\n|0a79ae01187f3f227...|1-60ea1868d9ff27c...|  110|      11|acceptable|     null|      78| null|         94|1540698117547|   null|\n|0a79ae01187f3f227...|1-d98b32017468702...|  111|      11|acceptable|     null|      75| null|         96|1540698118548|   null|\n|0a79ae01187f3f227...|1-0af9350845e78fc...|  121|      11|acceptable|     null|      73| null|         83|1540698128563|   null|\n|0a79ae01187f3f227...|1-5741db7de73adb0...|  127|      11|acceptable|     null|     130| null|         82|1540698134573|   null|\n|0a79ae01187f3f227...|1-1b8be0fc23bc074...|  128|      11|acceptable|     null|     135| null|         88|1540698135574|   null|\n|0a79ae01187f3f227...|1-85b0f24c4a40908...|  139|      11|acceptable|     null|     190| null|         81|1540698146601|   null|\n+--------------------+--------------------+-----+--------+----------+---------+--------+-----+-----------+-------------+-------+\nonly showing top 20 rows\n\n"
                }
            ], 
            "execution_count": 4
        }, 
        {
            "source": "The following cell can be used to test your count function", 
            "cell_type": "markdown", 
            "metadata": {}
        }, 
        {
            "source": "count(cloudantdata,spark)", 
            "cell_type": "code", 
            "metadata": {}, 
            "outputs": [
                {
                    "output_type": "execute_result", 
                    "data": {
                        "text/plain": "414"
                    }, 
                    "execution_count": 8, 
                    "metadata": {}
                }
            ], 
            "execution_count": 8
        }, 
        {
            "source": "The following cell can be used to test your getNumberOfFields function", 
            "cell_type": "markdown", 
            "metadata": {}
        }, 
        {
            "source": "getNumberOfFields(cloudantdata,spark)", 
            "cell_type": "code", 
            "metadata": {}, 
            "outputs": [
                {
                    "output_type": "execute_result", 
                    "data": {
                        "text/plain": "11"
                    }, 
                    "execution_count": 23, 
                    "metadata": {}
                }
            ], 
            "execution_count": 23
        }, 
        {
            "source": "The following cell can be used to test your getFieldNames function", 
            "cell_type": "markdown", 
            "metadata": {}
        }, 
        {
            "source": "getFieldNames(cloudantdata,spark)", 
            "cell_type": "code", 
            "metadata": {}, 
            "outputs": [
                {
                    "output_type": "execute_result", 
                    "data": {
                        "text/plain": "['_id',\n '_rev',\n 'count',\n 'flowrate',\n 'fluidlevel',\n 'frequency',\n 'hardness',\n 'speed',\n 'temperature',\n 'ts',\n 'voltage']"
                    }, 
                    "execution_count": 24, 
                    "metadata": {}
                }
            ], 
            "execution_count": 24
        }, 
        {
            "source": "Congratulations, you are done. So please export this notebook as python script using the \"File->Download as->Python (.py)\" option in the menue of this notebook. This file should be named \"assignment2.1.py\" and uploaded to the autograder of week2.", 
            "cell_type": "markdown", 
            "metadata": {}
        }
    ], 
    "metadata": {
        "kernelspec": {
            "display_name": "Python 2 with Spark 2.1", 
            "name": "python2-spark21", 
            "language": "python"
        }, 
        "language_info": {
            "mimetype": "text/x-python", 
            "nbconvert_exporter": "python", 
            "version": "2.7.14", 
            "name": "python", 
            "pygments_lexer": "ipython2", 
            "file_extension": ".py", 
            "codemirror_mode": {
                "version": 2, 
                "name": "ipython"
            }
        }
    }, 
    "nbformat": 4
}